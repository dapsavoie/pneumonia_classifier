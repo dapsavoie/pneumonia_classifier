{
 "cells": [
  {
   "cell_type": "code",
   "execution_count": 10,
   "metadata": {},
   "outputs": [],
   "source": [
    "import tensorflow as tf\n",
    "\n",
    "import keras\n",
    "from tensorflow.keras.models import load_model\n",
    "from keras.preprocessing.image import ImageDataGenerator, load_img"
   ]
  },
  {
   "cell_type": "code",
   "execution_count": 11,
   "metadata": {},
   "outputs": [
    {
     "name": "stdout",
     "output_type": "stream",
     "text": [
      "WARNING:tensorflow:Sequential models without an `input_shape` passed to the first layer cannot reload their optimizer state. As a result, your model isstarting with a freshly initialized optimizer.\n"
     ]
    }
   ],
   "source": [
    "model = load_model('model_sequential.h5')"
   ]
  },
  {
   "cell_type": "code",
   "execution_count": 12,
   "metadata": {},
   "outputs": [],
   "source": [
    "import os \n",
    "mainDir = os.listdir('D:/chest_xray')"
   ]
  },
  {
   "cell_type": "code",
   "execution_count": 13,
   "metadata": {},
   "outputs": [],
   "source": [
    "val_folder = 'D:/chest_xray/val/'"
   ]
  },
  {
   "cell_type": "code",
   "execution_count": 15,
   "metadata": {},
   "outputs": [],
   "source": [
    "train_gen=tf.keras.preprocessing.image.ImageDataGenerator(\n",
    "            rescale=1./255,\n",
    "            horizontal_flip=True)"
   ]
  },
  {
   "cell_type": "code",
   "execution_count": 16,
   "metadata": {},
   "outputs": [
    {
     "name": "stdout",
     "output_type": "stream",
     "text": [
      "Found 16 images belonging to 2 classes.\n"
     ]
    }
   ],
   "source": [
    "validation_generator=train_gen.flow_from_directory(\n",
    "                val_folder,\n",
    "                class_mode='binary')"
   ]
  },
  {
   "cell_type": "code",
   "execution_count": 20,
   "metadata": {},
   "outputs": [],
   "source": [
    "import pandas as pd\n",
    "validation  = model.predict(validation_generator)\n",
    "val = pd.DataFrame(validation)"
   ]
  },
  {
   "cell_type": "code",
   "execution_count": 21,
   "metadata": {},
   "outputs": [],
   "source": [
    "val[\"filename\"] = validation_generator.filenames\n",
    "val[\"label\"] = (val[\"filename\"].str.contains(\"PNEUMONIA\")).apply(int)"
   ]
  },
  {
   "cell_type": "code",
   "execution_count": 23,
   "metadata": {},
   "outputs": [
    {
     "data": {
      "text/html": [
       "<div>\n",
       "<style scoped>\n",
       "    .dataframe tbody tr th:only-of-type {\n",
       "        vertical-align: middle;\n",
       "    }\n",
       "\n",
       "    .dataframe tbody tr th {\n",
       "        vertical-align: top;\n",
       "    }\n",
       "\n",
       "    .dataframe thead th {\n",
       "        text-align: right;\n",
       "    }\n",
       "</style>\n",
       "<table border=\"1\" class=\"dataframe\">\n",
       "  <thead>\n",
       "    <tr style=\"text-align: right;\">\n",
       "      <th></th>\n",
       "      <th>0</th>\n",
       "      <th>filename</th>\n",
       "      <th>label</th>\n",
       "      <th>pre</th>\n",
       "    </tr>\n",
       "  </thead>\n",
       "  <tbody>\n",
       "    <tr>\n",
       "      <th>0</th>\n",
       "      <td>0.010337</td>\n",
       "      <td>NORMAL\\NORMAL2-IM-1427-0001.jpeg</td>\n",
       "      <td>0</td>\n",
       "      <td>0</td>\n",
       "    </tr>\n",
       "    <tr>\n",
       "      <th>1</th>\n",
       "      <td>0.999570</td>\n",
       "      <td>NORMAL\\NORMAL2-IM-1430-0001.jpeg</td>\n",
       "      <td>0</td>\n",
       "      <td>1</td>\n",
       "    </tr>\n",
       "    <tr>\n",
       "      <th>2</th>\n",
       "      <td>0.802530</td>\n",
       "      <td>NORMAL\\NORMAL2-IM-1431-0001.jpeg</td>\n",
       "      <td>0</td>\n",
       "      <td>1</td>\n",
       "    </tr>\n",
       "    <tr>\n",
       "      <th>3</th>\n",
       "      <td>0.089762</td>\n",
       "      <td>NORMAL\\NORMAL2-IM-1436-0001.jpeg</td>\n",
       "      <td>0</td>\n",
       "      <td>0</td>\n",
       "    </tr>\n",
       "    <tr>\n",
       "      <th>4</th>\n",
       "      <td>0.950124</td>\n",
       "      <td>NORMAL\\NORMAL2-IM-1437-0001.jpeg</td>\n",
       "      <td>0</td>\n",
       "      <td>1</td>\n",
       "    </tr>\n",
       "    <tr>\n",
       "      <th>5</th>\n",
       "      <td>0.808283</td>\n",
       "      <td>NORMAL\\NORMAL2-IM-1438-0001.jpeg</td>\n",
       "      <td>0</td>\n",
       "      <td>1</td>\n",
       "    </tr>\n",
       "    <tr>\n",
       "      <th>6</th>\n",
       "      <td>0.999975</td>\n",
       "      <td>NORMAL\\NORMAL2-IM-1440-0001.jpeg</td>\n",
       "      <td>0</td>\n",
       "      <td>1</td>\n",
       "    </tr>\n",
       "    <tr>\n",
       "      <th>7</th>\n",
       "      <td>0.002075</td>\n",
       "      <td>NORMAL\\NORMAL2-IM-1442-0001.jpeg</td>\n",
       "      <td>0</td>\n",
       "      <td>0</td>\n",
       "    </tr>\n",
       "    <tr>\n",
       "      <th>8</th>\n",
       "      <td>0.602511</td>\n",
       "      <td>PNEUMONIA\\person1946_bacteria_4874.jpeg</td>\n",
       "      <td>1</td>\n",
       "      <td>1</td>\n",
       "    </tr>\n",
       "    <tr>\n",
       "      <th>9</th>\n",
       "      <td>0.779461</td>\n",
       "      <td>PNEUMONIA\\person1946_bacteria_4875.jpeg</td>\n",
       "      <td>1</td>\n",
       "      <td>1</td>\n",
       "    </tr>\n",
       "    <tr>\n",
       "      <th>10</th>\n",
       "      <td>0.991536</td>\n",
       "      <td>PNEUMONIA\\person1947_bacteria_4876.jpeg</td>\n",
       "      <td>1</td>\n",
       "      <td>1</td>\n",
       "    </tr>\n",
       "    <tr>\n",
       "      <th>11</th>\n",
       "      <td>0.997905</td>\n",
       "      <td>PNEUMONIA\\person1949_bacteria_4880.jpeg</td>\n",
       "      <td>1</td>\n",
       "      <td>1</td>\n",
       "    </tr>\n",
       "    <tr>\n",
       "      <th>12</th>\n",
       "      <td>0.205380</td>\n",
       "      <td>PNEUMONIA\\person1950_bacteria_4881.jpeg</td>\n",
       "      <td>1</td>\n",
       "      <td>0</td>\n",
       "    </tr>\n",
       "    <tr>\n",
       "      <th>13</th>\n",
       "      <td>0.994103</td>\n",
       "      <td>PNEUMONIA\\person1951_bacteria_4882.jpeg</td>\n",
       "      <td>1</td>\n",
       "      <td>1</td>\n",
       "    </tr>\n",
       "    <tr>\n",
       "      <th>14</th>\n",
       "      <td>0.999841</td>\n",
       "      <td>PNEUMONIA\\person1952_bacteria_4883.jpeg</td>\n",
       "      <td>1</td>\n",
       "      <td>1</td>\n",
       "    </tr>\n",
       "    <tr>\n",
       "      <th>15</th>\n",
       "      <td>0.015558</td>\n",
       "      <td>PNEUMONIA\\person1954_bacteria_4886.jpeg</td>\n",
       "      <td>1</td>\n",
       "      <td>0</td>\n",
       "    </tr>\n",
       "  </tbody>\n",
       "</table>\n",
       "</div>"
      ],
      "text/plain": [
       "           0                                 filename  label  pre\n",
       "0   0.010337         NORMAL\\NORMAL2-IM-1427-0001.jpeg      0    0\n",
       "1   0.999570         NORMAL\\NORMAL2-IM-1430-0001.jpeg      0    1\n",
       "2   0.802530         NORMAL\\NORMAL2-IM-1431-0001.jpeg      0    1\n",
       "3   0.089762         NORMAL\\NORMAL2-IM-1436-0001.jpeg      0    0\n",
       "4   0.950124         NORMAL\\NORMAL2-IM-1437-0001.jpeg      0    1\n",
       "5   0.808283         NORMAL\\NORMAL2-IM-1438-0001.jpeg      0    1\n",
       "6   0.999975         NORMAL\\NORMAL2-IM-1440-0001.jpeg      0    1\n",
       "7   0.002075         NORMAL\\NORMAL2-IM-1442-0001.jpeg      0    0\n",
       "8   0.602511  PNEUMONIA\\person1946_bacteria_4874.jpeg      1    1\n",
       "9   0.779461  PNEUMONIA\\person1946_bacteria_4875.jpeg      1    1\n",
       "10  0.991536  PNEUMONIA\\person1947_bacteria_4876.jpeg      1    1\n",
       "11  0.997905  PNEUMONIA\\person1949_bacteria_4880.jpeg      1    1\n",
       "12  0.205380  PNEUMONIA\\person1950_bacteria_4881.jpeg      1    0\n",
       "13  0.994103  PNEUMONIA\\person1951_bacteria_4882.jpeg      1    1\n",
       "14  0.999841  PNEUMONIA\\person1952_bacteria_4883.jpeg      1    1\n",
       "15  0.015558  PNEUMONIA\\person1954_bacteria_4886.jpeg      1    0"
      ]
     },
     "execution_count": 23,
     "metadata": {},
     "output_type": "execute_result"
    }
   ],
   "source": [
    "val['pre'] = (val[0]>0.5).apply(int)\n",
    "\n",
    "val\n"
   ]
  },
  {
   "cell_type": "code",
   "execution_count": 25,
   "metadata": {},
   "outputs": [
    {
     "data": {
      "text/plain": [
       "0.75"
      ]
     },
     "execution_count": 25,
     "metadata": {},
     "output_type": "execute_result"
    }
   ],
   "source": [
    "from sklearn.metrics import roc_auc_score,roc_curve,accuracy_score,recall_score\n",
    "\n",
    "recall_score(val[\"label\"],val[\"pre\"])"
   ]
  },
  {
   "cell_type": "code",
   "execution_count": 30,
   "metadata": {},
   "outputs": [
    {
     "name": "stdout",
     "output_type": "stream",
     "text": [
      "WARNING:tensorflow:sample_weight modes were coerced from\n",
      "  ...\n",
      "    to  \n",
      "  ['...']\n",
      "1/1 [==============================] - 0s 250ms/step - loss: 0.3043 - acc: 0.8750\n"
     ]
    }
   ],
   "source": [
    "test_accu = model.evaluate(validation_generator)"
   ]
  },
  {
   "cell_type": "code",
   "execution_count": 31,
   "metadata": {},
   "outputs": [
    {
     "name": "stdout",
     "output_type": "stream",
     "text": [
      "The testing accuracy is : 87.5 %\n"
     ]
    }
   ],
   "source": [
    "print('The testing accuracy is :',test_accu[1]*100, '%')"
   ]
  },
  {
   "cell_type": "code",
   "execution_count": null,
   "metadata": {},
   "outputs": [],
   "source": []
  }
 ],
 "metadata": {
  "kernelspec": {
   "display_name": "Python 3",
   "language": "python",
   "name": "python3"
  },
  "language_info": {
   "codemirror_mode": {
    "name": "ipython",
    "version": 3
   },
   "file_extension": ".py",
   "mimetype": "text/x-python",
   "name": "python",
   "nbconvert_exporter": "python",
   "pygments_lexer": "ipython3",
   "version": "3.7.4"
  }
 },
 "nbformat": 4,
 "nbformat_minor": 4
}
