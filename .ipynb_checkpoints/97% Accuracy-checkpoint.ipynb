{
 "cells": [
  {
   "cell_type": "code",
   "execution_count": 1,
   "metadata": {},
   "outputs": [
    {
     "name": "stdout",
     "output_type": "stream",
     "text": [
      "Requirement already satisfied: pillow in c:\\users\\user\\anaconda3\\lib\\site-packages (7.0.0)\n",
      "Note: you may need to restart the kernel to use updated packages.\n"
     ]
    }
   ],
   "source": [
    "pip install pillow"
   ]
  },
  {
   "cell_type": "code",
   "execution_count": 2,
   "metadata": {},
   "outputs": [
    {
     "name": "stderr",
     "output_type": "stream",
     "text": [
      "Using TensorFlow backend.\n"
     ]
    }
   ],
   "source": [
    "import numpy as np # forlinear algebra\n",
    "import matplotlib.pyplot as plt #for plotting things\n",
    "import os\n",
    "from PIL import Image\n",
    "\n",
    "# Keras Libraries\n",
    "import keras\n",
    "from keras.models import Sequential\n",
    "from keras.layers import Conv2D\n",
    "from keras.layers import MaxPooling2D\n",
    "from keras.layers import Flatten\n",
    "from keras.layers import Dense\n",
    "from keras.preprocessing.image import ImageDataGenerator, load_img\n",
    "\n",
    "import tensorflow as tf"
   ]
  },
  {
   "cell_type": "code",
   "execution_count": 3,
   "metadata": {},
   "outputs": [],
   "source": [
    "mainDir = os.listdir('D:/chest_xray')\n",
    "#train_normal = 'D:/chest_xray/train/NORMAL'\n",
    "#train_pneumonia = 'D:/chest_xray/train/PNEUMONIA'"
   ]
  },
  {
   "cell_type": "code",
   "execution_count": 4,
   "metadata": {},
   "outputs": [
    {
     "data": {
      "text/plain": [
       "['chest_xray', 'test', 'train', 'val', '__MACOSX']"
      ]
     },
     "execution_count": 4,
     "metadata": {},
     "output_type": "execute_result"
    }
   ],
   "source": [
    "mainDir"
   ]
  },
  {
   "cell_type": "code",
   "execution_count": 5,
   "metadata": {},
   "outputs": [],
   "source": [
    "train_folder =  'D:/chest_xray/train/'\n",
    "test_folder = 'D:/chest_xray/test/'\n",
    "val_folder = 'D:/chest_xray/val/'"
   ]
  },
  {
   "cell_type": "code",
   "execution_count": 6,
   "metadata": {},
   "outputs": [
    {
     "data": {
      "text/plain": [
       "('D:/chest_xray/train/NORMAL/', 'D:/chest_xray/train/PNEUMONIA/')"
      ]
     },
     "execution_count": 6,
     "metadata": {},
     "output_type": "execute_result"
    }
   ],
   "source": [
    "#training vs testing folders\n",
    "\n",
    "os.listdir(train_folder)\n",
    "train_norm = train_folder +'NORMAL/'\n",
    "train_p = train_folder + 'PNEUMONIA/'\n",
    "\n",
    "train_norm, train_p"
   ]
  },
  {
   "cell_type": "code",
   "execution_count": 7,
   "metadata": {},
   "outputs": [],
   "source": [
    "train_gen=tf.keras.preprocessing.image.ImageDataGenerator(\n",
    "            rescale=1./255,\n",
    "            horizontal_flip=True)"
   ]
  },
  {
   "cell_type": "code",
   "execution_count": 8,
   "metadata": {},
   "outputs": [],
   "source": [
    "test_gen=tf.keras.preprocessing.image.ImageDataGenerator(\n",
    "            rescale=1./255,\n",
    "            horizontal_flip=True)"
   ]
  },
  {
   "cell_type": "code",
   "execution_count": 9,
   "metadata": {},
   "outputs": [
    {
     "name": "stdout",
     "output_type": "stream",
     "text": [
      "Found 5216 images belonging to 2 classes.\n"
     ]
    }
   ],
   "source": [
    "train_generator=train_gen.flow_from_directory(\n",
    "                train_folder,\n",
    "                class_mode='binary')"
   ]
  },
  {
   "cell_type": "code",
   "execution_count": 10,
   "metadata": {},
   "outputs": [
    {
     "name": "stdout",
     "output_type": "stream",
     "text": [
      "Found 16 images belonging to 2 classes.\n"
     ]
    }
   ],
   "source": [
    "validation_generator=train_gen.flow_from_directory(\n",
    "                val_folder,\n",
    "                class_mode='binary')"
   ]
  },
  {
   "cell_type": "code",
   "execution_count": 11,
   "metadata": {},
   "outputs": [
    {
     "name": "stdout",
     "output_type": "stream",
     "text": [
      "Found 624 images belonging to 2 classes.\n"
     ]
    }
   ],
   "source": [
    "test_generator = test_gen.flow_from_directory(\n",
    "                    test_folder,\n",
    "                    class_mode = 'binary')"
   ]
  },
  {
   "cell_type": "code",
   "execution_count": 12,
   "metadata": {},
   "outputs": [],
   "source": [
    "model=tf.keras.models.Sequential([\n",
    "    tf.keras.layers.Conv2D(8,(4,4),activation='relu'),\n",
    "    tf.keras.layers.MaxPooling2D(3,3),\n",
    "    tf.keras.layers.Conv2D(8,(4,4),activation='relu'),\n",
    "    tf.keras.layers.MaxPooling2D(3,3),\n",
    "    tf.keras.layers.Conv2D(8,(4,4),activation='relu'),\n",
    "    tf.keras.layers.MaxPooling2D(3,3),\n",
    "    tf.keras.layers.Flatten(),\n",
    "    tf.keras.layers.Dense(1024,activation='relu'),\n",
    "    tf.keras.layers.Dropout(0.4),\n",
    "    tf.keras.layers.Dense(256,activation='relu'),\n",
    "    tf.keras.layers.Dropout(0.4),\n",
    "    tf.keras.layers.Dense(128,activation='relu'),\n",
    "    tf.keras.layers.Dropout(0.4),\n",
    "    tf.keras.layers.Dense(1,activation='sigmoid'),\n",
    "    \n",
    "])"
   ]
  },
  {
   "cell_type": "code",
   "execution_count": 13,
   "metadata": {},
   "outputs": [],
   "source": [
    "model.compile(loss='binary_crossentropy',optimizer='adam',metrics=['acc'])"
   ]
  },
  {
   "cell_type": "code",
   "execution_count": 14,
   "metadata": {},
   "outputs": [
    {
     "name": "stdout",
     "output_type": "stream",
     "text": [
      "WARNING:tensorflow:sample_weight modes were coerced from\n",
      "  ...\n",
      "    to  \n",
      "  ['...']\n",
      "Train for 163 steps, validate for 1 steps\n",
      "Epoch 1/5\n",
      "163/163 [==============================] - 123s 757ms/step - loss: 0.3094 - acc: 0.8677 - val_loss: 0.7559 - val_acc: 0.7500\n",
      "Epoch 2/5\n",
      "163/163 [==============================] - 130s 796ms/step - loss: 0.1321 - acc: 0.9540 - val_loss: 1.0330 - val_acc: 0.6875\n",
      "Epoch 3/5\n",
      "163/163 [==============================] - 122s 750ms/step - loss: 0.1195 - acc: 0.9557 - val_loss: 0.4347 - val_acc: 0.8750\n",
      "Epoch 4/5\n",
      "163/163 [==============================] - 126s 773ms/step - loss: 0.0987 - acc: 0.9651 - val_loss: 0.5190 - val_acc: 0.8125\n",
      "Epoch 5/5\n",
      "163/163 [==============================] - 122s 746ms/step - loss: 0.0812 - acc: 0.9714 - val_loss: 0.2629 - val_acc: 0.8750\n"
     ]
    }
   ],
   "source": [
    "train=model.fit(\n",
    "    train_generator,\n",
    "    epochs=5,\n",
    "    validation_data=validation_generator                          \n",
    ")"
   ]
  },
  {
   "cell_type": "code",
   "execution_count": 15,
   "metadata": {},
   "outputs": [],
   "source": [
    "accuracy=train.history['acc']\n",
    "val_acc=train.history['val_acc']\n",
    "loss=train.history['loss']\n",
    "val_loss=train.history['val_loss']\n",
    "epochs=list(range(5))"
   ]
  },
  {
   "cell_type": "code",
   "execution_count": 16,
   "metadata": {},
   "outputs": [
    {
     "data": {
      "image/png": "[encoded data removed]",
      "text/plain": [
       "<Figure size 432x288 with 1 Axes>"
      ]
     },
     "metadata": {
      "needs_background": "light"
     },
     "output_type": "display_data"
    }
   ],
   "source": [
    "import matplotlib.pyplot as plt\n",
    "plt.plot(epochs,accuracy)\n",
    "plt.xlabel('EPOCHS')\n",
    "plt.ylabel('ACCURACY')\n",
    "plt.plot(epochs,val_acc)\n",
    "plt.legend(['TRAINING ACC','VAL ACC'])\n",
    "plt.show()"
   ]
  },
  {
   "cell_type": "code",
   "execution_count": 17,
   "metadata": {},
   "outputs": [
    {
     "data": {
      "image/png": "[encoded data removed]",
      "text/plain": [
       "<Figure size 432x288 with 1 Axes>"
      ]
     },
     "metadata": {
      "needs_background": "light"
     },
     "output_type": "display_data"
    }
   ],
   "source": [
    "import matplotlib.pyplot as plt\n",
    "plt.plot(epochs,loss)\n",
    "plt.xlabel('EPOCHS')\n",
    "plt.ylabel('LOSS')\n",
    "plt.plot(epochs,val_loss)\n",
    "plt.legend(['TRAINING LOSS','VAL LOSS'])\n",
    "plt.show()"
   ]
  },
  {
   "cell_type": "code",
   "execution_count": 18,
   "metadata": {
    "scrolled": true
   },
   "outputs": [
    {
     "name": "stdout",
     "output_type": "stream",
     "text": [
      "Accuracy :  97.14340567588806\n"
     ]
    }
   ],
   "source": [
    "print(\"Accuracy : \",accuracy[-1]*100)\n"
   ]
  },
  {
   "cell_type": "code",
   "execution_count": 19,
   "metadata": {},
   "outputs": [
    {
     "data": {
      "text/plain": [
       "array(<tensorflow.python.keras.preprocessing.image.ImageDataGenerator object at 0x0000023606826208>,\n",
       "      dtype=object)"
      ]
     },
     "execution_count": 19,
     "metadata": {},
     "output_type": "execute_result"
    }
   ],
   "source": [
    "IMG_SIZE = 50\n",
    "\n",
    "t = np.array(test_gen)\n",
    "t"
   ]
  },
  {
   "cell_type": "code",
   "execution_count": 20,
   "metadata": {},
   "outputs": [
    {
     "name": "stdout",
     "output_type": "stream",
     "text": [
      "WARNING:tensorflow:From <ipython-input-20-1b815e2aaf7c>:3: Model.predict_generator (from tensorflow.python.keras.engine.training) is deprecated and will be removed in a future version.\n",
      "Instructions for updating:\n",
      "Please use Model.predict, which supports generators.\n"
     ]
    }
   ],
   "source": [
    "import pandas as pd \n",
    "\n",
    "p = model.predict_generator(test_generator)\n",
    "\n",
    "pre = pd.DataFrame(p)\n",
    "\n",
    "pre[\"filename\"] = test_generator.filenames\n",
    "pre[\"label\"] = (pre[\"filename\"].str.contains(\"PNEUMONIA\")).apply(int)"
   ]
  },
  {
   "cell_type": "code",
   "execution_count": 21,
   "metadata": {},
   "outputs": [
    {
     "data": {
      "text/html": [
       "<div>\n",
       "<style scoped>\n",
       "    .dataframe tbody tr th:only-of-type {\n",
       "        vertical-align: middle;\n",
       "    }\n",
       "\n",
       "    .dataframe tbody tr th {\n",
       "        vertical-align: top;\n",
       "    }\n",
       "\n",
       "    .dataframe thead th {\n",
       "        text-align: right;\n",
       "    }\n",
       "</style>\n",
       "<table border=\"1\" class=\"dataframe\">\n",
       "  <thead>\n",
       "    <tr style=\"text-align: right;\">\n",
       "      <th></th>\n",
       "      <th>0</th>\n",
       "      <th>filename</th>\n",
       "      <th>label</th>\n",
       "      <th>pre</th>\n",
       "    </tr>\n",
       "  </thead>\n",
       "  <tbody>\n",
       "    <tr>\n",
       "      <th>0</th>\n",
       "      <td>0.670552</td>\n",
       "      <td>NORMAL\\IM-0001-0001.jpeg</td>\n",
       "      <td>0</td>\n",
       "      <td>1</td>\n",
       "    </tr>\n",
       "    <tr>\n",
       "      <th>1</th>\n",
       "      <td>0.999861</td>\n",
       "      <td>NORMAL\\IM-0003-0001.jpeg</td>\n",
       "      <td>0</td>\n",
       "      <td>1</td>\n",
       "    </tr>\n",
       "    <tr>\n",
       "      <th>2</th>\n",
       "      <td>0.999995</td>\n",
       "      <td>NORMAL\\IM-0005-0001.jpeg</td>\n",
       "      <td>0</td>\n",
       "      <td>1</td>\n",
       "    </tr>\n",
       "    <tr>\n",
       "      <th>3</th>\n",
       "      <td>0.892610</td>\n",
       "      <td>NORMAL\\IM-0006-0001.jpeg</td>\n",
       "      <td>0</td>\n",
       "      <td>1</td>\n",
       "    </tr>\n",
       "    <tr>\n",
       "      <th>4</th>\n",
       "      <td>0.777568</td>\n",
       "      <td>NORMAL\\IM-0007-0001.jpeg</td>\n",
       "      <td>0</td>\n",
       "      <td>1</td>\n",
       "    </tr>\n",
       "    <tr>\n",
       "      <th>...</th>\n",
       "      <td>...</td>\n",
       "      <td>...</td>\n",
       "      <td>...</td>\n",
       "      <td>...</td>\n",
       "    </tr>\n",
       "    <tr>\n",
       "      <th>619</th>\n",
       "      <td>0.999996</td>\n",
       "      <td>PNEUMONIA\\person96_bacteria_465.jpeg</td>\n",
       "      <td>1</td>\n",
       "      <td>1</td>\n",
       "    </tr>\n",
       "    <tr>\n",
       "      <th>620</th>\n",
       "      <td>0.869075</td>\n",
       "      <td>PNEUMONIA\\person96_bacteria_466.jpeg</td>\n",
       "      <td>1</td>\n",
       "      <td>1</td>\n",
       "    </tr>\n",
       "    <tr>\n",
       "      <th>621</th>\n",
       "      <td>0.999683</td>\n",
       "      <td>PNEUMONIA\\person97_bacteria_468.jpeg</td>\n",
       "      <td>1</td>\n",
       "      <td>1</td>\n",
       "    </tr>\n",
       "    <tr>\n",
       "      <th>622</th>\n",
       "      <td>0.999919</td>\n",
       "      <td>PNEUMONIA\\person99_bacteria_473.jpeg</td>\n",
       "      <td>1</td>\n",
       "      <td>1</td>\n",
       "    </tr>\n",
       "    <tr>\n",
       "      <th>623</th>\n",
       "      <td>0.999768</td>\n",
       "      <td>PNEUMONIA\\person99_bacteria_474.jpeg</td>\n",
       "      <td>1</td>\n",
       "      <td>1</td>\n",
       "    </tr>\n",
       "  </tbody>\n",
       "</table>\n",
       "<p>624 rows × 4 columns</p>\n",
       "</div>"
      ],
      "text/plain": [
       "            0                              filename  label  pre\n",
       "0    0.670552              NORMAL\\IM-0001-0001.jpeg      0    1\n",
       "1    0.999861              NORMAL\\IM-0003-0001.jpeg      0    1\n",
       "2    0.999995              NORMAL\\IM-0005-0001.jpeg      0    1\n",
       "3    0.892610              NORMAL\\IM-0006-0001.jpeg      0    1\n",
       "4    0.777568              NORMAL\\IM-0007-0001.jpeg      0    1\n",
       "..        ...                                   ...    ...  ...\n",
       "619  0.999996  PNEUMONIA\\person96_bacteria_465.jpeg      1    1\n",
       "620  0.869075  PNEUMONIA\\person96_bacteria_466.jpeg      1    1\n",
       "621  0.999683  PNEUMONIA\\person97_bacteria_468.jpeg      1    1\n",
       "622  0.999919  PNEUMONIA\\person99_bacteria_473.jpeg      1    1\n",
       "623  0.999768  PNEUMONIA\\person99_bacteria_474.jpeg      1    1\n",
       "\n",
       "[624 rows x 4 columns]"
      ]
     },
     "execution_count": 21,
     "metadata": {},
     "output_type": "execute_result"
    }
   ],
   "source": [
    "pre['pre'] = (pre[0]>0.5).apply(int)\n",
    "\n",
    "pre"
   ]
  },
  {
   "cell_type": "code",
   "execution_count": 22,
   "metadata": {},
   "outputs": [
    {
     "data": {
      "text/plain": [
       "0.8051282051282052"
      ]
     },
     "execution_count": 22,
     "metadata": {},
     "output_type": "execute_result"
    }
   ],
   "source": [
    "\n",
    "from sklearn.metrics import roc_auc_score,roc_curve,accuracy_score,recall_score\n",
    "\n",
    "recall_score(pre[\"label\"],pre[\"pre\"]) "
   ]
  },
  {
   "cell_type": "code",
   "execution_count": 23,
   "metadata": {},
   "outputs": [
    {
     "data": {
      "text/plain": [
       "0.502991452991453"
      ]
     },
     "execution_count": 23,
     "metadata": {},
     "output_type": "execute_result"
    }
   ],
   "source": [
    "roc_auc_score(pre['label'], pre['pre']) #this is a very low score and suggests further tuning is required"
   ]
  },
  {
   "cell_type": "code",
   "execution_count": 24,
   "metadata": {},
   "outputs": [],
   "source": [
    "# save it as a h5 file\n",
    "\n",
    "import tensorflow as tf\n",
    "\n",
    "from keras.models import load_model\n",
    "\n",
    "model.save('model_vgg16.h5')"
   ]
  },
  {
   "cell_type": "code",
   "execution_count": null,
   "metadata": {},
   "outputs": [],
   "source": []
  }
 ],
 "metadata": {
  "kernelspec": {
   "display_name": "Python 3",
   "language": "python",
   "name": "python3"
  },
  "language_info": {
   "codemirror_mode": {
    "name": "ipython",
    "version": 3
   },
   "file_extension": ".py",
   "mimetype": "text/x-python",
   "name": "python",
   "nbconvert_exporter": "python",
   "pygments_lexer": "ipython3",
   "version": "3.7.4"
  }
 },
 "nbformat": 4,
 "nbformat_minor": 4
}
